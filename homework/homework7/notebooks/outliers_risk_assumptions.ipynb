{
 "cells": [
  {
   "cell_type": "markdown",
   "id": "76f6349a",
   "metadata": {},
   "source": [
    "## Provided CSV"
   ]
  },
  {
   "cell_type": "code",
   "execution_count": 1,
   "id": "02d787e9",
   "metadata": {},
   "outputs": [
    {
     "name": "stdout",
     "output_type": "stream",
     "text": [
      "Synthetic dataset with two columns created and saved to ../data/raw\\outliers_homework.csv\n"
     ]
    }
   ],
   "source": [
    "import os\n",
    "import numpy as np\n",
    "import pandas as pd\n",
    "\n",
    "# Define folder paths relative to this notebook\n",
    "raw_dir = '../data/raw'\n",
    "processed_dir = '../data/processed'\n",
    "\n",
    "# Create folders if they don't exist\n",
    "os.makedirs(raw_dir, exist_ok=True)\n",
    "os.makedirs(processed_dir, exist_ok=True)\n",
    "\n",
    "# Generate business day dates\n",
    "dates = pd.date_range(start=\"2022-01-03\", end=\"2022-06-10\", freq=\"B\")\n",
    "\n",
    "# Fixed random seed for reproducibility\n",
    "np.random.seed(17)\n",
    "\n",
    "# Column 1: daily_return ~ N(0, 0.01)\n",
    "returns = np.random.normal(0, 0.01, size=len(dates))\n",
    "mask_pre_may = dates < \"2022-05-01\"\n",
    "returns[mask_pre_may] -= 0.0015  \n",
    "\n",
    "# Inject \"shock\" values\n",
    "shock_values = {\n",
    "    \"2022-05-02\": 0.1748425237194541,\n",
    "    \"2022-05-03\": -0.16825801732486943,\n",
    "    \"2022-05-06\": -0.19667220757153227,\n",
    "    \"2022-05-09\": 0.21240223590614747,\n",
    "    \"2022-05-12\": -0.178729287231294\n",
    "}\n",
    "for d, v in shock_values.items():\n",
    "    idx = np.where(dates == pd.to_datetime(d))[0][0]\n",
    "    returns[idx] = v\n",
    "\n",
    "# Column 2: daily_return_2, correlated with daily_return + small noise\n",
    "daily_return_2 = returns * 0.6 + np.random.normal(0, 0.005, size=len(dates))\n",
    "\n",
    "# Create DataFrame with two numeric columns\n",
    "df = pd.DataFrame({\n",
    "    \"date\": dates,\n",
    "    \"daily_return\": returns,\n",
    "    \"daily_return_2\": daily_return_2\n",
    "})\n",
    "\n",
    "# Save to CSV in raw data folder\n",
    "csv_path = os.path.join(raw_dir, 'outliers_homework.csv')\n",
    "if not os.path.exists(csv_path):\n",
    "    df.to_csv(csv_path, index=False)\n",
    "    print(f'Synthetic dataset with two columns created and saved to {csv_path}')\n",
    "else:\n",
    "    print(f'File already exists at {csv_path}. Skipping CSV creation to avoid overwrite.')"
   ]
  },
  {
   "cell_type": "code",
   "execution_count": 6,
   "id": "248ff512",
   "metadata": {},
   "outputs": [
    {
     "data": {
      "text/plain": [
       "['LinearRegression',\n",
       " 'Path',\n",
       " '__builtins__',\n",
       " '__cached__',\n",
       " '__doc__',\n",
       " '__file__',\n",
       " '__loader__',\n",
       " '__name__',\n",
       " '__package__',\n",
       " '__spec__',\n",
       " 'detect_outliers_iqr',\n",
       " 'detect_outliers_zscore',\n",
       " 'mean_absolute_error',\n",
       " 'np',\n",
       " 'pd',\n",
       " 'plt',\n",
       " 'r2_score',\n",
       " 'winsorize_series']"
      ]
     },
     "execution_count": 6,
     "metadata": {},
     "output_type": "execute_result"
    }
   ],
   "source": [
    "import importlib\n",
    "import outliers\n",
    "importlib.reload(outliers)\n",
    "dir(outliers)"
   ]
  },
  {
   "cell_type": "code",
   "execution_count": 14,
   "id": "26638b10",
   "metadata": {},
   "outputs": [
    {
     "data": {
      "text/plain": [
       "outlier_iqr    0.060870\n",
       "outlier_z      0.043478\n",
       "dtype: float64"
      ]
     },
     "execution_count": 14,
     "metadata": {},
     "output_type": "execute_result"
    }
   ],
   "source": [
    "from outliers import detect_outliers_iqr, detect_outliers_zscore\n",
    "target_col = 'y' if 'y' in df.columns else df.select_dtypes(include=['number']).columns[1]\n",
    "df['outlier_iqr'] = detect_outliers_iqr(df[target_col])\n",
    "df['outlier_z'] = detect_outliers_zscore(df[target_col], threshold=3.0)\n",
    "df[['outlier_iqr', 'outlier_z']].mean()  # fraction flagged"
   ]
  },
  {
   "cell_type": "code",
   "execution_count": 15,
   "id": "750a7a67",
   "metadata": {},
   "outputs": [
    {
     "data": {
      "image/png": "[encoded data removed]",
      "text/plain": [
       "<Figure size 640x480 with 1 Axes>"
      ]
     },
     "metadata": {},
     "output_type": "display_data"
    },
    {
     "data": {
      "image/png": "[encoded data removed]",
      "text/plain": [
       "<Figure size 640x480 with 1 Axes>"
      ]
     },
     "metadata": {},
     "output_type": "display_data"
    }
   ],
   "source": [
    "# Setup\n",
    "import numpy as np\n",
    "import pandas as pd\n",
    "import matplotlib.pyplot as plt\n",
    "from pathlib import Path\n",
    "from sklearn.linear_model import LinearRegression\n",
    "from sklearn.metrics import mean_absolute_error, r2_score\n",
    "\n",
    "np.random.seed(17)\n",
    "plt.figure()\n",
    "plt.boxplot(df[target_col])\n",
    "plt.title(f'Boxplot: {target_col}')\n",
    "plt.show()\n",
    "\n",
    "plt.figure()\n",
    "plt.hist(df[target_col], bins=30)\n",
    "plt.title(f'Histogram: {target_col}')\n",
    "plt.show()"
   ]
  },
  {
   "cell_type": "code",
   "execution_count": 16,
   "id": "98ff1ba6",
   "metadata": {},
   "outputs": [
    {
     "data": {
      "text/html": [
       "<div>\n",
       "<style scoped>\n",
       "    .dataframe tbody tr th:only-of-type {\n",
       "        vertical-align: middle;\n",
       "    }\n",
       "\n",
       "    .dataframe tbody tr th {\n",
       "        vertical-align: top;\n",
       "    }\n",
       "\n",
       "    .dataframe thead th {\n",
       "        text-align: right;\n",
       "    }\n",
       "</style>\n",
       "<table border=\"1\" class=\"dataframe\">\n",
       "  <thead>\n",
       "    <tr style=\"text-align: right;\">\n",
       "      <th></th>\n",
       "      <th>all</th>\n",
       "      <th>filtered_iqr</th>\n",
       "    </tr>\n",
       "  </thead>\n",
       "  <tbody>\n",
       "    <tr>\n",
       "      <th>mean</th>\n",
       "      <td>-0.000668</td>\n",
       "      <td>-0.000098</td>\n",
       "    </tr>\n",
       "    <tr>\n",
       "      <th>median</th>\n",
       "      <td>-0.000174</td>\n",
       "      <td>-0.000173</td>\n",
       "    </tr>\n",
       "    <tr>\n",
       "      <th>std</th>\n",
       "      <td>0.025068</td>\n",
       "      <td>0.007744</td>\n",
       "    </tr>\n",
       "  </tbody>\n",
       "</table>\n",
       "</div>"
      ],
      "text/plain": [
       "             all  filtered_iqr\n",
       "mean   -0.000668     -0.000098\n",
       "median -0.000174     -0.000173\n",
       "std     0.025068      0.007744"
      ]
     },
     "execution_count": 16,
     "metadata": {},
     "output_type": "execute_result"
    }
   ],
   "source": [
    "# Option A: Summary stats\n",
    "summ_all = df[target_col].describe()[['mean', '50%', 'std']].rename({'50%': 'median'})\n",
    "summ_filtered = df.loc[~df['outlier_iqr'], target_col].describe()[['mean', '50%', 'std']].rename({'50%': 'median'})\n",
    "summ_w = None\n",
    "if 'winsorize_series' in globals():\n",
    "    w = winsorize_series(df[target_col])\n",
    "    summ_w = w.describe()[['mean', '50%', 'std']].rename({'50%': 'median'})\n",
    "\n",
    "comp = pd.concat(\n",
    "    {\n",
    "        'all': summ_all,\n",
    "        'filtered_iqr': summ_filtered,\n",
    "        **({'winsorized': summ_w} if summ_w is not None else {})\n",
    "    }, axis=1\n",
    ")\n",
    "comp"
   ]
  },
  {
   "cell_type": "code",
   "execution_count": 23,
   "id": "5364fb02",
   "metadata": {},
   "outputs": [
    {
     "name": "stdout",
     "output_type": "stream",
     "text": [
      "No 'x' column; skip regression or engineer features.\n"
     ]
    }
   ],
   "source": [
    "# Option B: Simple regression (if x present)\n",
    "if 'x' in df.columns:\n",
    "    X_all = df[['x']].to_numpy(); y_all = df[target_col].to_numpy()\n",
    "    X_filtered = df.loc[~df['outlier_iqr'], ['x']].to_numpy(); y_filtered = df.loc[~df['outlier_iqr'], target_col].to_numpy()\n",
    "\n",
    "    model_all = LinearRegression().fit(X_all, y_all)\n",
    "    model_flt = LinearRegression().fit(X_filtered, y_filtered)\n",
    "\n",
    "    mae_all = mean_absolute_error(y_all, model_all.predict(X_all))\n",
    "    mae_flt = mean_absolute_error(y_filtered, model_flt.predict(X_filtered))\n",
    "\n",
    "    results = pd.DataFrame({\n",
    "        'slope': [model_all.coef_[0], model_flt.coef_[0]],\n",
    "        'intercept': [model_all.intercept_, model_flt.intercept_],\n",
    "        'r2': [model_all.score(X_all, y_all), model_flt.score(X_filtered, y_filtered)],\n",
    "        'mae': [mae_all, mae_flt]\n",
    "    }, index=['all', 'filtered_iqr'])\n",
    "    results\n",
    "else:\n",
    "    results = None\n",
    "    print(\"No 'x' column; skip regression or engineer features.\")"
   ]
  },
  {
   "cell_type": "markdown",
   "id": "2b86e867",
   "metadata": {},
   "source": [
    "## Synthetic Fallback"
   ]
  },
  {
   "cell_type": "code",
   "execution_count": 24,
   "id": "e66e8de8",
   "metadata": {},
   "outputs": [
    {
     "data": {
      "text/html": [
       "<div>\n",
       "<style scoped>\n",
       "    .dataframe tbody tr th:only-of-type {\n",
       "        vertical-align: middle;\n",
       "    }\n",
       "\n",
       "    .dataframe tbody tr th {\n",
       "        vertical-align: top;\n",
       "    }\n",
       "\n",
       "    .dataframe thead th {\n",
       "        text-align: right;\n",
       "    }\n",
       "</style>\n",
       "<table border=\"1\" class=\"dataframe\">\n",
       "  <thead>\n",
       "    <tr style=\"text-align: right;\">\n",
       "      <th></th>\n",
       "      <th>x</th>\n",
       "      <th>y</th>\n",
       "    </tr>\n",
       "  </thead>\n",
       "  <tbody>\n",
       "    <tr>\n",
       "      <th>0</th>\n",
       "      <td>0.000000</td>\n",
       "      <td>1.331519</td>\n",
       "    </tr>\n",
       "    <tr>\n",
       "      <th>1</th>\n",
       "      <td>0.050251</td>\n",
       "      <td>-1.115001</td>\n",
       "    </tr>\n",
       "    <tr>\n",
       "      <th>2</th>\n",
       "      <td>0.100503</td>\n",
       "      <td>1.969787</td>\n",
       "    </tr>\n",
       "    <tr>\n",
       "      <th>3</th>\n",
       "      <td>0.150754</td>\n",
       "      <td>2.706032</td>\n",
       "    </tr>\n",
       "    <tr>\n",
       "      <th>4</th>\n",
       "      <td>0.201005</td>\n",
       "      <td>2.686840</td>\n",
       "    </tr>\n",
       "  </tbody>\n",
       "</table>\n",
       "</div>"
      ],
      "text/plain": [
       "          x         y\n",
       "0  0.000000  1.331519\n",
       "1  0.050251 -1.115001\n",
       "2  0.100503  1.969787\n",
       "3  0.150754  2.706032\n",
       "4  0.201005  2.686840"
      ]
     },
     "execution_count": 24,
     "metadata": {},
     "output_type": "execute_result"
    }
   ],
   "source": [
    "data_path = Path('data/raw/outliers_homework.csv')\n",
    "if data_path.exists():\n",
    "    df = pd.read_csv(data_path)\n",
    "else:\n",
    "    # Synthetic fallback: linear trend with noise and a few extremes\n",
    "    x = np.linspace(0, 10, 200)\n",
    "    y = 2.2 * x + 1 + np.random.normal(0, 1.2, size=x.size)\n",
    "    y[10] += 15; y[120] -= 13; y[160] += 18\n",
    "    df = pd.DataFrame({'x': x, 'y': y})\n",
    "df.head()"
   ]
  },
  {
   "cell_type": "code",
   "execution_count": 25,
   "id": "9996797c",
   "metadata": {},
   "outputs": [
    {
     "data": {
      "text/plain": [
       "outlier_iqr    0.005\n",
       "outlier_z      0.005\n",
       "dtype: float64"
      ]
     },
     "execution_count": 25,
     "metadata": {},
     "output_type": "execute_result"
    }
   ],
   "source": [
    "target_col = 'y' if 'y' in df.columns else df.select_dtypes(include=['number']).columns[0]\n",
    "df['outlier_iqr'] = detect_outliers_iqr(df[target_col])\n",
    "df['outlier_z'] = detect_outliers_zscore(df[target_col], threshold=3.0)\n",
    "df[['outlier_iqr', 'outlier_z']].mean()  # fraction flagged"
   ]
  },
  {
   "cell_type": "code",
   "execution_count": 26,
   "id": "08a5dd8a",
   "metadata": {},
   "outputs": [
    {
     "data": {
      "image/png": "[encoded data removed]",
      "text/plain": [
       "<Figure size 640x480 with 1 Axes>"
      ]
     },
     "metadata": {},
     "output_type": "display_data"
    },
    {
     "data": {
      "image/png": "[encoded data removed]",
      "text/plain": [
       "<Figure size 640x480 with 1 Axes>"
      ]
     },
     "metadata": {},
     "output_type": "display_data"
    }
   ],
   "source": [
    "plt.figure()\n",
    "plt.boxplot(df[target_col])\n",
    "plt.title(f'Boxplot: {target_col}')\n",
    "plt.show()\n",
    "\n",
    "plt.figure()\n",
    "plt.hist(df[target_col], bins=30)\n",
    "plt.title(f'Histogram: {target_col}')\n",
    "plt.show()"
   ]
  },
  {
   "cell_type": "code",
   "execution_count": 27,
   "id": "7992dd18",
   "metadata": {},
   "outputs": [
    {
     "data": {
      "text/html": [
       "<div>\n",
       "<style scoped>\n",
       "    .dataframe tbody tr th:only-of-type {\n",
       "        vertical-align: middle;\n",
       "    }\n",
       "\n",
       "    .dataframe tbody tr th {\n",
       "        vertical-align: top;\n",
       "    }\n",
       "\n",
       "    .dataframe thead th {\n",
       "        text-align: right;\n",
       "    }\n",
       "</style>\n",
       "<table border=\"1\" class=\"dataframe\">\n",
       "  <thead>\n",
       "    <tr style=\"text-align: right;\">\n",
       "      <th></th>\n",
       "      <th>all</th>\n",
       "      <th>filtered_iqr</th>\n",
       "    </tr>\n",
       "  </thead>\n",
       "  <tbody>\n",
       "    <tr>\n",
       "      <th>mean</th>\n",
       "      <td>12.171936</td>\n",
       "      <td>12.047851</td>\n",
       "    </tr>\n",
       "    <tr>\n",
       "      <th>median</th>\n",
       "      <td>12.349663</td>\n",
       "      <td>12.285113</td>\n",
       "    </tr>\n",
       "    <tr>\n",
       "      <th>std</th>\n",
       "      <td>6.761378</td>\n",
       "      <td>6.546157</td>\n",
       "    </tr>\n",
       "  </tbody>\n",
       "</table>\n",
       "</div>"
      ],
      "text/plain": [
       "              all  filtered_iqr\n",
       "mean    12.171936     12.047851\n",
       "median  12.349663     12.285113\n",
       "std      6.761378      6.546157"
      ]
     },
     "execution_count": 27,
     "metadata": {},
     "output_type": "execute_result"
    }
   ],
   "source": [
    "# Option A: Summary stats\n",
    "summ_all = df[target_col].describe()[['mean', '50%', 'std']].rename({'50%': 'median'})\n",
    "summ_filtered = df.loc[~df['outlier_iqr'], target_col].describe()[['mean', '50%', 'std']].rename({'50%': 'median'})\n",
    "summ_w = None\n",
    "if 'winsorize_series' in globals():\n",
    "    w = winsorize_series(df[target_col])\n",
    "    summ_w = w.describe()[['mean', '50%', 'std']].rename({'50%': 'median'})\n",
    "\n",
    "comp = pd.concat(\n",
    "    {\n",
    "        'all': summ_all,\n",
    "        'filtered_iqr': summ_filtered,\n",
    "        **({'winsorized': summ_w} if summ_w is not None else {})\n",
    "    }, axis=1\n",
    ")\n",
    "comp"
   ]
  },
  {
   "cell_type": "code",
   "execution_count": 29,
   "id": "d83e458e",
   "metadata": {},
   "outputs": [
    {
     "name": "stdout",
     "output_type": "stream",
     "text": [
      "                 slope  intercept        r2       mae\n",
      "all           2.169679   1.323542  0.871082  1.200432\n",
      "filtered_iqr  2.136650   1.397242  0.900777  1.118809\n"
     ]
    }
   ],
   "source": [
    "# Option B: Simple regression (if x present)\n",
    "if 'x' in df.columns:\n",
    "    X_all = df[['x']].to_numpy(); y_all = df[target_col].to_numpy()\n",
    "    X_filtered = df.loc[~df['outlier_iqr'], ['x']].to_numpy(); y_filtered = df.loc[~df['outlier_iqr'], target_col].to_numpy()\n",
    "\n",
    "    model_all = LinearRegression().fit(X_all, y_all)\n",
    "    model_flt = LinearRegression().fit(X_filtered, y_filtered)\n",
    "\n",
    "    mae_all = mean_absolute_error(y_all, model_all.predict(X_all))\n",
    "    mae_flt = mean_absolute_error(y_filtered, model_flt.predict(X_filtered))\n",
    "\n",
    "    results = pd.DataFrame({\n",
    "        'slope': [model_all.coef_[0], model_flt.coef_[0]],\n",
    "        'intercept': [model_all.intercept_, model_flt.intercept_],\n",
    "        'r2': [model_all.score(X_all, y_all), model_flt.score(X_filtered, y_filtered)],\n",
    "        'mae': [mae_all, mae_flt]\n",
    "    }, index=['all', 'filtered_iqr'])\n",
    "    print(results)\n",
    "else:\n",
    "    results = None\n",
    "    print(\"No 'x' column; skip regression or engineer features.\")"
   ]
  },
  {
   "cell_type": "code",
   "execution_count": null,
   "id": "74f6e410",
   "metadata": {},
   "outputs": [
    {
     "data": {
      "image/png": "[encoded data removed]",
      "text/plain": [
       "<Figure size 800x500 with 1 Axes>"
      ]
     },
     "metadata": {},
     "output_type": "display_data"
    }
   ],
   "source": [
    "import numpy as np\n",
    "import matplotlib.pyplot as plt\n",
    "\n",
    "x_line = np.linspace(df['x'].min(), df['x'].max(), 100).reshape(-1, 1)\n",
    "\n",
    "def line(slope, intercept):\n",
    "    return slope * x_line[:, 0] + intercept\n",
    "\n",
    "s_all = results.loc['all', 'slope']\n",
    "i_all = results.loc['all', 'intercept']\n",
    "s_flt = results.loc['filtered_iqr', 'slope']\n",
    "i_flt = results.loc['filtered_iqr', 'intercept']\n",
    "\n",
    "plt.figure(figsize=(8, 5))\n",
    "\n",
    "plt.scatter(df['x'], df[target_col], alpha=0.5, label='All data')\n",
    "\n",
    "plt.plot(x_line, line(s_all, i_all), label='Fit: All', color='blue')\n",
    "plt.plot(x_line, line(s_flt, i_flt), label='Fit: Filtered IQR', color='orange')\n",
    "\n",
    "plt.title(\"Simple Regression Fits\")\n",
    "plt.xlabel(\"x\")\n",
    "plt.ylabel(target_col)\n",
    "plt.legend()\n",
    "plt.grid(True)\n",
    "plt.tight_layout()\n",
    "plt.show()\n"
   ]
  },
  {
   "cell_type": "markdown",
   "id": "fa10a87b",
   "metadata": {},
   "source": [
    "## Reflection\n",
    "\n",
    "### Which method(s) and thresholds I chose and why:\n",
    "- I used two common methods to detect outliers: the IQR method and the Z-score method.\n",
    "\n",
    "- For the IQR method, I applied the classical threshold of 1.5 × IQR to identify values that are far below or above the interquartile range.\n",
    "\n",
    "- For the Z-score method, I used a threshold of 3.0, which is standard for identifying values more than 3 standard deviations from the mean.\n",
    "\n",
    "### Assumptions behind your choices:\n",
    "\n",
    "- The IQR method assumes the central 50% of the data represents a “normal” range and that outliers lie significantly outside this range.\n",
    "\n",
    "- The Z-score method assumes that the data is approximately normally distributed, which may not hold in real-world cases with skewed distributions or heavy tails.\n",
    "\n",
    "- Linear regression assumes that outliers are not informative and may distort the estimation of slope and intercept.\n",
    "\n",
    "### Observed impacts on results:\n",
    "\n",
    "- After removing outliers detected by the IQR method, the regression line became more stable, and the slope and intercept changed.\n",
    "\n",
    "- The MAE (mean absolute error) decreased, and the R² score improved slightly, showing better model fit without the influence of extreme values.\n",
    "\n",
    "- Summary statistics (mean, median, std) also shifted, highlighting how sensitive these metrics are to extreme observations.\n",
    "\n",
    "### Risks if assumptions are wrong:\n",
    "\n",
    "- If the removed values are not true outliers but represent valid extreme cases, the model may become biased and fail to generalize.\n",
    "\n",
    "- If the distribution is skewed and we use Z-score, we risk misclassifying valid values as outliers due to distorted standard deviation.\n",
    "\n",
    "- Over-filtering based on these assumptions could lead to loss of information and underestimation of variability."
   ]
  }
 ],
 "metadata": {
  "kernelspec": {
   "display_name": "Python 3",
   "language": "python",
   "name": "python3"
  },
  "language_info": {
   "codemirror_mode": {
    "name": "ipython",
    "version": 3
   },
   "file_extension": ".py",
   "mimetype": "text/x-python",
   "name": "python",
   "nbconvert_exporter": "python",
   "pygments_lexer": "ipython3",
   "version": "3.9.13"
  }
 },
 "nbformat": 4,
 "nbformat_minor": 5
}
