{
 "cells": [
  {
   "cell_type": "markdown",
   "id": "76038c84",
   "metadata": {},
   "source": [
    "##1. Data Sources & URLs\n",
    "##Scrape:\n",
    "FDIC\n",
    "https://www.fdic.gov/resources/resolutions/bank-failures/failed-bank-list/\n",
    "##API\n",
    "AlphaVantage or Yahoo Finance\n",
    "https://www.alphavantage.co/query (fallback: yfinance API)"
   ]
  },
  {
   "cell_type": "markdown",
   "id": "57ace9be",
   "metadata": {},
   "source": [
    "##2. Request Parameters\n",
    "##Scrape\n",
    "URL: https://www.fdic.gov/resources/resolutions/bank-failures/failed-bank-list/\n",
    "Headers: User-Agent: AFE-Course-Notebook/1.0 (contact: instructor@example.edu)\n",
    "Timeout: 30s\n",
    "Tooling: requests + BeautifulSoup + pandas.read_html\n",
    "Fallback: simulated HTML table used if scraping fails\n",
    "##API\n",
    "Provider: AlphaVantage (TIME_SERIES_DAILY)\n",
    "Parameters:\n",
    "symbol: \"AAPL\"\n",
    "outputsize: \"compact\"\n",
    "apikey: loaded via .env\n",
    "datatype: \"json\"\n",
    "Fallback: yfinance.download(\"AAPL\", period=\"6mo\", interval=\"1d\")"
   ]
  },
  {
   "cell_type": "markdown",
   "id": "4a2d7141",
   "metadata": {},
   "source": [
    "##3. Validation Logic\n",
    "Both data sources are validated using the same helper function:"
   ]
  },
  {
   "cell_type": "code",
   "execution_count": null,
   "id": "c77dc90c",
   "metadata": {
    "vscode": {
     "languageId": "plaintext"
    }
   },
   "outputs": [],
   "source": [
    "def validate_df(df: pd.DataFrame, required_cols: List[str], dtypes_map: Dict[str, str]) -> Dict[str, str]:\n",
    "    msgs = {}\n",
    "    missing = [c for c in required_cols if c not in df.columns]\n",
    "    if missing:\n",
    "        msgs[\"missing_cols\"] = f\"Missing columns: {missing}\"\n",
    "    for col, dtype in dtypes_map.items():\n",
    "        if col in df.columns:\n",
    "            try:\n",
    "                if dtype == \"datetime64[ns]\":\n",
    "                    pd.to_datetime(df[col])\n",
    "                elif dtype == \"float\":\n",
    "                    pd.to_numeric(df[col])\n",
    "            except Exception as e:\n",
    "                msgs[f\"dtype_{col}\"] = f\"Failed to coerce {col} to {dtype}: {e}\"\n",
    "    na_counts = df.isna().sum().sum()\n",
    "    msgs[\"na_total\"] = f\"Total NA values: {na_counts}\"\n",
    "    return msgs"
   ]
  },
  {
   "cell_type": "markdown",
   "id": "97b312f5",
   "metadata": {},
   "source": [
    "##API Validation"
   ]
  },
  {
   "cell_type": "code",
   "execution_count": null,
   "id": "972d5b1f",
   "metadata": {
    "vscode": {
     "languageId": "plaintext"
    }
   },
   "outputs": [],
   "source": [
    "msgs = validate_df(df_api, required_cols=[\"date\", \"adj_close\"], dtypes_map={\"date\": \"datetime64[ns]\", \"adj_close\": \"float\"})"
   ]
  },
  {
   "cell_type": "markdown",
   "id": "2619ccdd",
   "metadata": {},
   "source": [
    "##Scrape Validation"
   ]
  },
  {
   "cell_type": "code",
   "execution_count": null,
   "id": "7d04c949",
   "metadata": {
    "vscode": {
     "languageId": "plaintext"
    }
   },
   "outputs": [],
   "source": [
    "msgs2 = validate_df(df_scrape, required_cols=list(df_scrape.columns), dtypes_map={})"
   ]
  },
  {
   "cell_type": "markdown",
   "id": "02731e30",
   "metadata": {},
   "source": [
    "##4. Assumptions & Risks\n",
    "##API\n",
    "Assumptions:\n",
    "The .env file is correctly configured with a valid ALPHAVANTAGE_API_KEY.\n",
    "The AlphaVantage endpoint TIME_SERIES_DAILY remains accessible and correctly formatted.\n",
    "Risks:\n",
    "The AlphaVantage API has rate limits; if exceeded or the key is missing, data fetching will fail.\n",
    "##Scrape\n",
    "Assumptions:\n",
    "The FDIC webpage structure contains a well-formed <table> that pandas.read_html can parse.\n",
    "The table contains all expected columns and rows directly in the HTML.\n",
    "Risks:\n",
    "If the FDIC updates the website structure, the scraper may break."
   ]
  }
 ],
 "metadata": {
  "language_info": {
   "name": "python"
  }
 },
 "nbformat": 4,
 "nbformat_minor": 5
}
